{
 "cells": [
  {
   "cell_type": "markdown",
   "id": "c607f44d",
   "metadata": {},
   "source": [
    "### Урок 8. ДЗ ###"
   ]
  },
  {
   "cell_type": "markdown",
   "id": "f46b89dc",
   "metadata": {},
   "source": [
    "1. Обучить любую модель классификации на датасете IRIS до применения самописного PCA (2 компоненты) и после него. Сравнить качество классификации по отложенной выборке."
   ]
  },
  {
   "cell_type": "code",
   "execution_count": 1,
   "id": "b02f17c0",
   "metadata": {},
   "outputs": [],
   "source": [
    "import numpy as np\n",
    "from sklearn.model_selection import train_test_split\n",
    "from sklearn.datasets import load_iris\n",
    "\n",
    "import matplotlib.pyplot as plt\n",
    "\n",
    "%matplotlib inline\n",
    "\n",
    "import warnings\n",
    "warnings.filterwarnings('ignore')"
   ]
  },
  {
   "cell_type": "code",
   "execution_count": 2,
   "id": "11d80b8a",
   "metadata": {},
   "outputs": [],
   "source": [
    "X, y = load_iris(return_X_y=True)"
   ]
  },
  {
   "cell_type": "code",
   "execution_count": 3,
   "id": "a71daaa1",
   "metadata": {},
   "outputs": [
    {
     "data": {
      "text/plain": [
       "((120, 4), (30, 4))"
      ]
     },
     "execution_count": 3,
     "metadata": {},
     "output_type": "execute_result"
    }
   ],
   "source": [
    "X_train, X_test, y_train, y_test = train_test_split(X, y,\n",
    "                                                    test_size=0.2,\n",
    "                                                    random_state=1,\n",
    "                                                    stratify=y)\n",
    "X_train.shape, X_test.shape"
   ]
  },
  {
   "cell_type": "code",
   "execution_count": 4,
   "id": "61050ee4",
   "metadata": {},
   "outputs": [],
   "source": [
    "def e_metrics(x1, x2):\n",
    "    distance = np.sum(np.square(x1 - x2))\n",
    "    return np.sqrt(distance)"
   ]
  },
  {
   "cell_type": "code",
   "execution_count": 5,
   "id": "34dcb3f9",
   "metadata": {},
   "outputs": [],
   "source": [
    "def knn(x_train, y_train, x_test, k):\n",
    "    \n",
    "    answers = []\n",
    "    for x in x_test:\n",
    "        test_distances = []\n",
    "            \n",
    "        for i in range(len(x_train)):\n",
    "            \n",
    "            # расчет расстояния от классифицируемого объекта до\n",
    "            # объекта обучающей выборки\n",
    "            distance = e_metrics(x, x_train[i])\n",
    "            \n",
    "            # Записываем в список значение расстояния и ответа на объекте обучающей выборки\n",
    "            test_distances.append((distance, y_train[i]))\n",
    "        \n",
    "        # создаем словарь со всеми возможными классами\n",
    "        classes = {class_item: 0 for class_item in set(y_train)}\n",
    "        \n",
    "        # Сортируем список и среди первых k элементов подсчитаем частоту появления разных классов\n",
    "        for d in sorted(test_distances)[0:k]:\n",
    "            \n",
    "            classes[d[1]] += 1\n",
    "\n",
    "        # Записываем в список ответов наиболее часто встречающийся класс\n",
    "        answers.append(sorted(classes, key=classes.get)[-1])\n",
    "        \n",
    "    return answers"
   ]
  },
  {
   "cell_type": "code",
   "execution_count": 6,
   "id": "42fd8de0",
   "metadata": {},
   "outputs": [],
   "source": [
    "def accuracy(pred, y):\n",
    "    return (sum(pred == y) / len(y))"
   ]
  },
  {
   "cell_type": "code",
   "execution_count": 20,
   "id": "7c177793",
   "metadata": {},
   "outputs": [
    {
     "name": "stdout",
     "output_type": "stream",
     "text": [
      "Точность алгоритма при k = 3: 0.967\n",
      "CPU times: user 42.6 ms, sys: 2.43 ms, total: 45 ms\n",
      "Wall time: 44.7 ms\n"
     ]
    }
   ],
   "source": [
    "%%time \n",
    "\n",
    "k = 3\n",
    "\n",
    "y_pred = knn(X_train, y_train, X_test, k)\n",
    "print(f'Точность алгоритма при k = {k}: {accuracy(y_pred, y_test):.3f}')"
   ]
  },
  {
   "cell_type": "markdown",
   "id": "5aa1dbdd",
   "metadata": {},
   "source": [
    "#### Применим PCA ####"
   ]
  },
  {
   "cell_type": "code",
   "execution_count": 8,
   "id": "26fad680",
   "metadata": {},
   "outputs": [
    {
     "data": {
      "text/plain": [
       "array([9.20830507e+03, 3.15454317e+02, 1.19780429e+01, 3.55257020e+00])"
      ]
     },
     "metadata": {},
     "output_type": "display_data"
    },
    {
     "data": {
      "text/plain": [
       "array([[ 0.75110816,  0.2841749 ,  0.50215472,  0.32081425],\n",
       "       [ 0.38008617,  0.5467445 , -0.67524332, -0.31725607],\n",
       "       [ 0.51300886, -0.70866455, -0.05916621, -0.48074507],\n",
       "       [ 0.16790754, -0.34367081, -0.53701625,  0.75187165]])"
      ]
     },
     "metadata": {},
     "output_type": "display_data"
    }
   ],
   "source": [
    "eig_val, eig_vecs = np.linalg.eig(X.T @ X)\n",
    "display(eig_val, eig_vecs)"
   ]
  },
  {
   "cell_type": "code",
   "execution_count": 9,
   "id": "e735aa2f",
   "metadata": {},
   "outputs": [
    {
     "data": {
      "text/plain": [
       "(array([0.75110816, 0.38008617, 0.51300886, 0.16790754]),\n",
       " array([ 0.2841749 ,  0.5467445 , -0.70866455, -0.34367081]),\n",
       " array([ 0.50215472, -0.67524332, -0.05916621, -0.53701625]),\n",
       " array([ 0.32081425, -0.31725607, -0.48074507,  0.75187165]))"
      ]
     },
     "execution_count": 9,
     "metadata": {},
     "output_type": "execute_result"
    }
   ],
   "source": [
    "vec0 = eig_vecs[:, 0]\n",
    "vec1 = eig_vecs[:, 1]\n",
    "vec2 = eig_vecs[:, 2]\n",
    "vec3 = eig_vecs[:, 3]\n",
    "vec0, vec1, vec2, vec3"
   ]
  },
  {
   "cell_type": "code",
   "execution_count": 10,
   "id": "9a2bad21",
   "metadata": {},
   "outputs": [
    {
     "data": {
      "text/plain": [
       "[96.53029806531566,\n",
       " 3.3068951313646835,\n",
       " 0.12556535030291374,\n",
       " 0.037241453016743115]"
      ]
     },
     "execution_count": 10,
     "metadata": {},
     "output_type": "execute_result"
    }
   ],
   "source": [
    "eig_sum = sum(eig_val)\n",
    "[(i / eig_sum) * 100 for i in sorted(eig_val, reverse=True)]"
   ]
  },
  {
   "cell_type": "code",
   "execution_count": 11,
   "id": "dea15234",
   "metadata": {
    "scrolled": true
   },
   "outputs": [],
   "source": [
    "X_reduced = np.dot(X, vec0)\n",
    "X_reduced = np.array([i for i in zip(X_reduced, np.dot(X, vec1))])\n",
    "# X_reduced"
   ]
  },
  {
   "cell_type": "code",
   "execution_count": 12,
   "id": "4f1d8f4d",
   "metadata": {},
   "outputs": [
    {
     "data": {
      "text/plain": [
       "((120, 2), (30, 2))"
      ]
     },
     "execution_count": 12,
     "metadata": {},
     "output_type": "execute_result"
    }
   ],
   "source": [
    "X_train, X_test, y_train, y_test = train_test_split(X_reduced, y,\n",
    "                                                    test_size=0.2,\n",
    "                                                    random_state=1,\n",
    "                                                    stratify=y)\n",
    "X_train.shape, X_test.shape"
   ]
  },
  {
   "cell_type": "code",
   "execution_count": 21,
   "id": "1ab46431",
   "metadata": {},
   "outputs": [
    {
     "name": "stdout",
     "output_type": "stream",
     "text": [
      "Точность алгоритма при k = 3: 0.967\n",
      "CPU times: user 45.4 ms, sys: 3.03 ms, total: 48.5 ms\n",
      "Wall time: 51.8 ms\n"
     ]
    }
   ],
   "source": [
    "%%time \n",
    "\n",
    "y_pred = knn(X_train, y_train, X_test, k)\n",
    "print(f'Точность алгоритма при k = {k}: {accuracy(y_pred, y_test):.3f}')"
   ]
  },
  {
   "cell_type": "markdown",
   "id": "96cdf022",
   "metadata": {},
   "source": [
    "#### Проверка на sklearn ####"
   ]
  },
  {
   "cell_type": "code",
   "execution_count": 14,
   "id": "2da27b26",
   "metadata": {},
   "outputs": [],
   "source": [
    "from sklearn.neighbors import KNeighborsClassifier\n",
    "from sklearn.decomposition import PCA\n",
    "from sklearn.preprocessing import StandardScaler"
   ]
  },
  {
   "cell_type": "code",
   "execution_count": 15,
   "id": "f7656df5",
   "metadata": {},
   "outputs": [],
   "source": [
    "X, y = load_iris(return_X_y=True)"
   ]
  },
  {
   "cell_type": "code",
   "execution_count": 16,
   "id": "698f85c1",
   "metadata": {},
   "outputs": [],
   "source": [
    "scaler = StandardScaler()\n",
    "X_scaled = scaler.fit_transform(X)"
   ]
  },
  {
   "cell_type": "code",
   "execution_count": 17,
   "id": "c3fc6085",
   "metadata": {},
   "outputs": [],
   "source": [
    "pca = PCA(n_components=2)\n",
    "X_reduced = pca.fit_transform(X)"
   ]
  },
  {
   "cell_type": "code",
   "execution_count": 18,
   "id": "32f36018",
   "metadata": {},
   "outputs": [
    {
     "data": {
      "text/plain": [
       "((120, 2), (30, 2))"
      ]
     },
     "execution_count": 18,
     "metadata": {},
     "output_type": "execute_result"
    }
   ],
   "source": [
    "X_train, X_test, y_train, y_test = train_test_split(X_reduced, y,\n",
    "                                                    test_size=0.2,\n",
    "                                                    random_state=1,\n",
    "                                                    stratify=y)\n",
    "X_train.shape, X_test.shape"
   ]
  },
  {
   "cell_type": "code",
   "execution_count": 22,
   "id": "9eea4685",
   "metadata": {
    "scrolled": false
   },
   "outputs": [
    {
     "name": "stdout",
     "output_type": "stream",
     "text": [
      "CPU times: user 8.83 ms, sys: 2.41 ms, total: 11.2 ms\n",
      "Wall time: 16.8 ms\n"
     ]
    },
    {
     "data": {
      "text/plain": [
       "0.9666666666666667"
      ]
     },
     "execution_count": 22,
     "metadata": {},
     "output_type": "execute_result"
    }
   ],
   "source": [
    "%%time \n",
    "\n",
    "neigh = KNeighborsClassifier(n_neighbors=3)\n",
    "neigh.fit(X_train, y_train)\n",
    "y_pred = neigh.predict(X_test)\n",
    "neigh.score(X_test, y_test)"
   ]
  },
  {
   "cell_type": "code",
   "execution_count": null,
   "id": "5797f0f4",
   "metadata": {},
   "outputs": [],
   "source": [
    "# ОТВЕТ: в данном случае, используя метод мы в два раза сократили объем обрабатываемых данных, \n",
    "# что способствовало сокращению\n",
    "# времени обучения, при сохранении хорошего уровня оценки."
   ]
  }
 ],
 "metadata": {
  "kernelspec": {
   "display_name": "Python 3",
   "language": "python",
   "name": "python3"
  },
  "language_info": {
   "codemirror_mode": {
    "name": "ipython",
    "version": 3
   },
   "file_extension": ".py",
   "mimetype": "text/x-python",
   "name": "python",
   "nbconvert_exporter": "python",
   "pygments_lexer": "ipython3",
   "version": "3.8.8"
  }
 },
 "nbformat": 4,
 "nbformat_minor": 5
}
