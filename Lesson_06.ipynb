{
 "cells": [
  {
   "cell_type": "markdown",
   "id": "206d9ec5",
   "metadata": {},
   "source": [
    "### Урок 6. ДЗ ###"
   ]
  },
  {
   "cell_type": "markdown",
   "id": "b9c7a2e2",
   "metadata": {},
   "source": [
    "1. Для реализованной модели градиентного бустинга построить графики зависимости ошибки от количества деревьев в ансамбле и от максимальной глубины деревьев. Сделать выводы о зависимости ошибки от этих параметров."
   ]
  },
  {
   "cell_type": "code",
   "execution_count": 1,
   "id": "1f29f919",
   "metadata": {},
   "outputs": [],
   "source": [
    "from sklearn import model_selection\n",
    "from sklearn.tree import DecisionTreeRegressor\n",
    "from sklearn.datasets import load_diabetes\n",
    "import matplotlib.pyplot as plt\n",
    "import numpy as np"
   ]
  },
  {
   "cell_type": "code",
   "execution_count": 2,
   "id": "edba7245",
   "metadata": {},
   "outputs": [
    {
     "data": {
      "text/plain": [
       "((442, 10), (442,))"
      ]
     },
     "execution_count": 2,
     "metadata": {},
     "output_type": "execute_result"
    }
   ],
   "source": [
    "X, y = load_diabetes(return_X_y=True)\n",
    "X.shape, y.shape"
   ]
  },
  {
   "cell_type": "code",
   "execution_count": 3,
   "id": "ed8d0151",
   "metadata": {},
   "outputs": [],
   "source": [
    "X_train, X_test, y_train, y_test = model_selection.train_test_split(X, y, test_size=0.25)"
   ]
  },
  {
   "cell_type": "code",
   "execution_count": 4,
   "id": "e25a2d06",
   "metadata": {},
   "outputs": [],
   "source": [
    "def gb_predict(X, trees_list, eta):\n",
    "    # Реализуемый алгоритм градиентного бустинга будет инициализироваться нулевыми значениями,\n",
    "    # поэтому все деревья из списка trees_list уже являются дополнительными и при предсказании\n",
    "    # прибавляются с шагом eta\n",
    "    \n",
    "#     predictions = np.zeros(X.shape[0])\n",
    "#     for i, x in enumerate(X):\n",
    "#         prediction = 0\n",
    "#         for alg in trees_list:\n",
    "#             prediction += eta * alg.predict([x])[0]\n",
    "#         predictions[i] = prediction\n",
    "        \n",
    "    predictions = np.array(\n",
    "        [sum([eta * alg.predict([x])[0] for alg in trees_list]) for x in X]\n",
    "    )\n",
    "\n",
    "    return predictions"
   ]
  },
  {
   "cell_type": "code",
   "execution_count": 5,
   "id": "fd8eb410",
   "metadata": {},
   "outputs": [],
   "source": [
    "def mean_squared_error(y_real, prediction):\n",
    "    return (sum((y_real - prediction)**2)) / len(y_real)"
   ]
  },
  {
   "cell_type": "code",
   "execution_count": 6,
   "id": "d1c350f9",
   "metadata": {},
   "outputs": [],
   "source": [
    "def residual(y, z):\n",
    "    return - (z - y)"
   ]
  },
  {
   "cell_type": "code",
   "execution_count": 7,
   "id": "21df9fe7",
   "metadata": {},
   "outputs": [],
   "source": [
    "def gb_fit(n_trees, max_depth, X_train, X_test, y_train, y_test, eta):\n",
    "    \n",
    "    # Деревья будем записывать в список\n",
    "    trees = []\n",
    "    \n",
    "    # Будем записывать ошибки на обучающей и тестовой выборке на каждой итерации в список\n",
    "    train_errors = []\n",
    "    test_errors = []\n",
    "    \n",
    "    for i in range(n_trees):\n",
    "        tree = DecisionTreeRegressor(max_depth=max_depth, random_state=42)\n",
    "\n",
    "        # первый алгоритм просто обучаем на выборке и добавляем в список\n",
    "        if len(trees) == 0:\n",
    "            # обучаем первое дерево на обучающей выборке\n",
    "            tree.fit(X_train, y_train)\n",
    "            \n",
    "            train_errors.append(mean_squared_error(y_train, gb_predict(X_train, trees, eta)))\n",
    "            test_errors.append(mean_squared_error(y_test, gb_predict(X_test, trees, eta)))\n",
    "        else:\n",
    "            # Получим ответы на текущей композиции\n",
    "            target = gb_predict(X_train, trees, eta)\n",
    "            \n",
    "            # алгоритмы начиная со второго обучаем на сдвиг\n",
    "            tree.fit(X_train, residual(y_train, target))\n",
    "            \n",
    "            train_errors.append(mean_squared_error(y_train, gb_predict(X_train, trees, eta)))\n",
    "            test_errors.append(mean_squared_error(y_test, gb_predict(X_test, trees, eta)))\n",
    "\n",
    "        trees.append(tree)\n",
    "        \n",
    "    return trees, train_errors, test_errors"
   ]
  },
  {
   "cell_type": "code",
   "execution_count": 38,
   "id": "cca7ac84",
   "metadata": {},
   "outputs": [],
   "source": [
    "def trees_errors_dep(max_n_trees, max_depth, eta):\n",
    "    \n",
    "    train_errors_list = []\n",
    "    test_errors_list = []\n",
    "    depth_list = []\n",
    "\n",
    "    for i in range(1, max_depth+1):\n",
    "\n",
    "        trees, train_errors, test_errors = gb_fit(max_n_trees, i, X_train, X_test, y_train, y_test, eta)\n",
    "        train_errors_list.append(train_errors[-1])\n",
    "        test_errors_list.append(test_errors[-1])\n",
    "        depth_list.append(i)\n",
    "\n",
    "    return train_errors_list, test_errors_list, depth_list"
   ]
  },
  {
   "cell_type": "code",
   "execution_count": 59,
   "id": "4c3ca662",
   "metadata": {},
   "outputs": [],
   "source": [
    "max_n_trees = 3\n",
    "max_depth = 5\n",
    "eta = 1\n",
    "\n",
    "train_errors_list, test_errors_list, depth_list = trees_errors_dep(max_n_trees, max_depth, eta)"
   ]
  },
  {
   "cell_type": "code",
   "execution_count": 60,
   "id": "1b716041",
   "metadata": {},
   "outputs": [
    {
     "data": {
      "text/plain": [
       "<matplotlib.legend.Legend at 0x7fdaae5f6910>"
      ]
     },
     "execution_count": 60,
     "metadata": {},
     "output_type": "execute_result"
    },
    {
     "data": {
      "image/png": "[encoded data removed]",
      "text/plain": [
       "<Figure size 432x288 with 1 Axes>"
      ]
     },
     "metadata": {
      "needs_background": "light"
     },
     "output_type": "display_data"
    }
   ],
   "source": [
    "plt.plot(depth_list, train_errors_list, label='train_errors')\n",
    "plt.plot(depth_list, test_errors_list, label='test_errors')\n",
    "plt.title(f'{max_n_trees} trees')\n",
    "plt.xlabel('Tree\\'s deep')\n",
    "plt.ylabel('MSE')\n",
    "plt.legend()"
   ]
  },
  {
   "cell_type": "code",
   "execution_count": 61,
   "id": "893a9334",
   "metadata": {},
   "outputs": [],
   "source": [
    "max_n_trees = 9\n",
    "max_depth = 5\n",
    "eta = 1\n",
    "\n",
    "train_errors_list, test_errors_list, depth_list = trees_errors_dep(max_n_trees, max_depth, eta)"
   ]
  },
  {
   "cell_type": "code",
   "execution_count": 62,
   "id": "683e4649",
   "metadata": {},
   "outputs": [
    {
     "data": {
      "text/plain": [
       "<matplotlib.legend.Legend at 0x7fdaae6e6e50>"
      ]
     },
     "execution_count": 62,
     "metadata": {},
     "output_type": "execute_result"
    },
    {
     "data": {
      "image/png": "[encoded data removed]",
      "text/plain": [
       "<Figure size 432x288 with 1 Axes>"
      ]
     },
     "metadata": {
      "needs_background": "light"
     },
     "output_type": "display_data"
    }
   ],
   "source": [
    "plt.plot(depth_list, train_errors_list, label='train_errors')\n",
    "plt.plot(depth_list, test_errors_list, label='test_errors')\n",
    "plt.title(f'{max_n_trees} trees')\n",
    "plt.xlabel('Tree\\'s deep')\n",
    "plt.ylabel('MSE')\n",
    "plt.legend()"
   ]
  },
  {
   "cell_type": "code",
   "execution_count": 63,
   "id": "641f1719",
   "metadata": {},
   "outputs": [],
   "source": [
    "max_n_trees = 15\n",
    "max_depth = 5\n",
    "eta = 1\n",
    "\n",
    "train_errors_list, test_errors_list, depth_list = trees_errors_dep(max_n_trees, max_depth, eta)"
   ]
  },
  {
   "cell_type": "code",
   "execution_count": 64,
   "id": "276bc15f",
   "metadata": {
    "scrolled": true
   },
   "outputs": [
    {
     "data": {
      "text/plain": [
       "<matplotlib.legend.Legend at 0x7fdaaf06e7f0>"
      ]
     },
     "execution_count": 64,
     "metadata": {},
     "output_type": "execute_result"
    },
    {
     "data": {
      "image/png": "[encoded data removed]",
      "text/plain": [
       "<Figure size 432x288 with 1 Axes>"
      ]
     },
     "metadata": {
      "needs_background": "light"
     },
     "output_type": "display_data"
    }
   ],
   "source": [
    "plt.plot(depth_list, train_errors_list, label='train_errors')\n",
    "plt.plot(depth_list, test_errors_list, label='test_errors')\n",
    "plt.title(f'{max_n_trees} trees')\n",
    "plt.xlabel('Tree\\'s deep')\n",
    "plt.ylabel('MSE')\n",
    "plt.legend()"
   ]
  },
  {
   "cell_type": "code",
   "execution_count": 65,
   "id": "aef20986",
   "metadata": {},
   "outputs": [],
   "source": [
    "# ОТВЕТ: При большем количестве деревьев, и растущей глубине, скорость переобучения будет выше"
   ]
  }
 ],
 "metadata": {
  "kernelspec": {
   "display_name": "Python 3",
   "language": "python",
   "name": "python3"
  },
  "language_info": {
   "codemirror_mode": {
    "name": "ipython",
    "version": 3
   },
   "file_extension": ".py",
   "mimetype": "text/x-python",
   "name": "python",
   "nbconvert_exporter": "python",
   "pygments_lexer": "ipython3",
   "version": "3.8.8"
  }
 },
 "nbformat": 4,
 "nbformat_minor": 5
}
