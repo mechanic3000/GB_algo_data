{
 "cells": [
  {
   "cell_type": "markdown",
   "id": "962041d9",
   "metadata": {},
   "source": [
    "### Урок 2. ДЗ ###\n",
    "\n",
    "1. Постройте график зависимости весов всех признаков от lambda в самописной L2-регуляризации (на данных про ЕГЭ). Сделайте вывод"
   ]
  },
  {
   "cell_type": "code",
   "execution_count": 1,
   "id": "b5936bca",
   "metadata": {},
   "outputs": [],
   "source": [
    "import numpy as np\n",
    "import matplotlib.pyplot as plt\n",
    "\n",
    "%matplotlib inline\n",
    "import warnings\n",
    "warnings.filterwarnings('ignore')"
   ]
  },
  {
   "cell_type": "code",
   "execution_count": 2,
   "id": "9643d843",
   "metadata": {},
   "outputs": [],
   "source": [
    "X = np.array([[   1,    1,  500,    1],\n",
    "              [   1,    1,  700,    1],\n",
    "              [   1,    2,  750,    2],\n",
    "              [   1,    5,  600,    1],\n",
    "              [   1,    3, 1450,    2],\n",
    "              [   1,    0,  800,    1],\n",
    "              [   1,    5, 1500,    3],\n",
    "              [   1,   10, 2000,    3],\n",
    "              [   1,    1,  450,    1],\n",
    "              [   1,    2, 1000,    2]])\n",
    "\n",
    "y = [45, 55, 50, 55, 60, 35, 75, 80, 50, 60]"
   ]
  },
  {
   "cell_type": "code",
   "execution_count": 3,
   "id": "89682935",
   "metadata": {},
   "outputs": [],
   "source": [
    "def standard_scale(X):\n",
    "    \"\"\"стандартизация\"\"\"\n",
    "    mean = X.mean()\n",
    "    std = X.std()\n",
    "    return (X - mean) / std"
   ]
  },
  {
   "cell_type": "code",
   "execution_count": 4,
   "id": "78fa9952",
   "metadata": {},
   "outputs": [],
   "source": [
    "def calc_mse(y, y_pred):\n",
    "    \"\"\"расчет MSE\"\"\"\n",
    "    err = np.mean((y - y_pred)**2)\n",
    "    return err"
   ]
  },
  {
   "cell_type": "code",
   "execution_count": 5,
   "id": "9a726bc7",
   "metadata": {},
   "outputs": [],
   "source": [
    "def gradient_descent_reg_l2(X, y, iterations, eta=1e-4, reg=1e-8):\n",
    "    \"\"\"градиентный спуск с L2 регуляризацией\"\"\"\n",
    "    W = np.random.randn(X.shape[1])\n",
    "    n = X.shape[0]\n",
    "    \n",
    "    for i in range(0, iterations):\n",
    "        y_pred = np.dot(X, W)\n",
    "        err = calc_mse(y, y_pred)\n",
    "        \n",
    "        dQ = 2/n * X.T @ (y_pred - y) # градиент функции ошибки\n",
    "        dReg = 2 * reg * W # градиент регуляризации\n",
    "        \n",
    "        W -= eta * (dQ + dReg)\n",
    "        \n",
    "#             DEBUG\n",
    "#         if i % (iterations / 10) == 0:\n",
    "#             print(f'Iter: {i}, weights: {W}, error {err}')\n",
    "    \n",
    "#     print(f'Final MSE: {calc_mse(y, np.dot(X, W))}')\n",
    "    return W"
   ]
  },
  {
   "cell_type": "code",
   "execution_count": 6,
   "id": "60e7b7ce",
   "metadata": {},
   "outputs": [
    {
     "data": {
      "text/plain": [
       "array([[ 1.        , -0.70710678, -0.97958969, -0.89625816],\n",
       "       [ 1.        , -0.70710678, -0.56713087, -0.89625816],\n",
       "       [ 1.        , -0.35355339, -0.46401617,  0.38411064],\n",
       "       [ 1.        ,  0.70710678, -0.77336028, -0.89625816],\n",
       "       [ 1.        ,  0.        ,  0.97958969,  0.38411064],\n",
       "       [ 1.        , -1.06066017, -0.36090146, -0.89625816],\n",
       "       [ 1.        ,  0.70710678,  1.08270439,  1.66447944],\n",
       "       [ 1.        ,  2.47487373,  2.11385144,  1.66447944],\n",
       "       [ 1.        , -0.70710678, -1.08270439, -0.89625816],\n",
       "       [ 1.        , -0.35355339,  0.05155735,  0.38411064]])"
      ]
     },
     "execution_count": 6,
     "metadata": {},
     "output_type": "execute_result"
    }
   ],
   "source": [
    "X_st = X.copy().astype(np.float64)\n",
    "X_st[:, 1] = standard_scale(X_st[:, 1])\n",
    "X_st[:, 2] = standard_scale(X_st[:, 2])\n",
    "X_st[:, 3] = standard_scale(X_st[:, 3])\n",
    "\n",
    "X_st"
   ]
  },
  {
   "cell_type": "code",
   "execution_count": 7,
   "id": "aa61d182",
   "metadata": {},
   "outputs": [
    {
     "data": {
      "text/plain": [
       "array([1.00000000e-03, 1.26485522e-03, 1.59985872e-03, 2.02358965e-03,\n",
       "       2.55954792e-03, 3.23745754e-03, 4.09491506e-03, 5.17947468e-03,\n",
       "       6.55128557e-03, 8.28642773e-03, 1.04811313e-02, 1.32571137e-02,\n",
       "       1.67683294e-02, 2.12095089e-02, 2.68269580e-02, 3.39322177e-02,\n",
       "       4.29193426e-02, 5.42867544e-02, 6.86648845e-02, 8.68511374e-02,\n",
       "       1.09854114e-01, 1.38949549e-01, 1.75751062e-01, 2.22299648e-01,\n",
       "       2.81176870e-01, 3.55648031e-01, 4.49843267e-01, 5.68986603e-01,\n",
       "       7.19685673e-01, 9.10298178e-01, 1.15139540e+00, 1.45634848e+00,\n",
       "       1.84206997e+00, 2.32995181e+00, 2.94705170e+00, 3.72759372e+00,\n",
       "       4.71486636e+00, 5.96362332e+00, 7.54312006e+00, 9.54095476e+00,\n",
       "       1.20679264e+01, 1.52641797e+01, 1.93069773e+01, 2.44205309e+01,\n",
       "       3.08884360e+01, 3.90693994e+01, 4.94171336e+01, 6.25055193e+01,\n",
       "       7.90604321e+01, 1.00000000e+02])"
      ]
     },
     "execution_count": 7,
     "metadata": {},
     "output_type": "execute_result"
    }
   ],
   "source": [
    "n = 50\n",
    "lambda_coef = np.logspace(-3, 2, n)\n",
    "lambda_coef"
   ]
  },
  {
   "cell_type": "code",
   "execution_count": 8,
   "id": "65d09972",
   "metadata": {},
   "outputs": [],
   "source": [
    "W_list = np.zeros((n, X_st.shape[1]), dtype=np.float64)\n",
    "for i in range(n):\n",
    "    W_list[i, :] = gradient_descent_reg_l2(X_st, y, iterations=5000, eta=1e-3, reg=lambda_coef[i])"
   ]
  },
  {
   "cell_type": "code",
   "execution_count": 9,
   "id": "212b7f35",
   "metadata": {
    "scrolled": false
   },
   "outputs": [
    {
     "data": {
      "image/png": "[encoded data removed]",
      "text/plain": [
       "<Figure size 432x288 with 1 Axes>"
      ]
     },
     "metadata": {
      "needs_background": "light"
     },
     "output_type": "display_data"
    }
   ],
   "source": [
    "for i in range(X_st.shape[1]-1):\n",
    "    plt.plot(lambda_coef, W_list[:, i+1])\n",
    "\n",
    "plt.xticks(np.arange(0, 101, 10))\n",
    "plt.xlabel('lambda')\n",
    "plt.ylabel('Вес признака');"
   ]
  },
  {
   "cell_type": "markdown",
   "id": "80891e68",
   "metadata": {},
   "source": [
    "Вывод: при увеличении значения коэффициента регуляризации - значения весов снижаются."
   ]
  },
  {
   "cell_type": "markdown",
   "id": "bb5f1267",
   "metadata": {},
   "source": [
    "<hr> \n",
    "\n",
    "2. Напишите функцию наподобие gradient_descent_reg_l2, но для применения L1-регуляризации."
   ]
  },
  {
   "cell_type": "code",
   "execution_count": 10,
   "id": "90bfa64f",
   "metadata": {},
   "outputs": [],
   "source": [
    "def gradient_descent_reg_l1(X, y, iterations, eta=1e-4, reg=1e-8):\n",
    "    \"\"\"градиентный спуск с L1 регуляризацией\"\"\"\n",
    "    W = np.random.randn(X.shape[1])\n",
    "    n = X.shape[0]\n",
    "    \n",
    "    for i in range(0, iterations):\n",
    "        y_pred = np.dot(X, W)\n",
    "        err = calc_mse(y, y_pred)\n",
    "        \n",
    "        dQ = 2/n * X.T @ (y_pred - y) # градиент функции ошибки\n",
    "        dReg = reg * np.sign(W) # градиент регуляризации\n",
    "        \n",
    "        W -= eta * (dQ + dReg)\n",
    "        \n",
    "#             DEBUG\n",
    "#         if i % (iterations / 10) == 0:\n",
    "#             print(f'Iter: {i}, weights: {W}, error {err}')\n",
    "    \n",
    "#     print(f'Final MSE: {calc_mse(y, np.dot(X, W))}')\n",
    "    return W"
   ]
  },
  {
   "cell_type": "code",
   "execution_count": 11,
   "id": "a1d177a1",
   "metadata": {},
   "outputs": [],
   "source": [
    "W_list = np.zeros((n, X_st.shape[1]), dtype=np.float64)\n",
    "for i in range(n):\n",
    "    W_list[i, :] = gradient_descent_reg_l1(X_st, y, iterations=5000, eta=1e-3, reg=lambda_coef[i])"
   ]
  },
  {
   "cell_type": "code",
   "execution_count": 12,
   "id": "93fa71cd",
   "metadata": {},
   "outputs": [
    {
     "data": {
      "image/png": "[encoded data removed]",
      "text/plain": [
       "<Figure size 432x288 with 1 Axes>"
      ]
     },
     "metadata": {
      "needs_background": "light"
     },
     "output_type": "display_data"
    }
   ],
   "source": [
    "for i in range(X_st.shape[1]-1):\n",
    "    plt.plot(lambda_coef, W_list[:, i+1])\n",
    "\n",
    "plt.xticks(np.arange(0, 101, 10))\n",
    "plt.xlabel('lambda')\n",
    "plt.ylabel('Вес признака');"
   ]
  },
  {
   "cell_type": "markdown",
   "id": "69b03e39",
   "metadata": {},
   "source": [
    "<hr>\n",
    "\n",
    "3. *Можно ли к одному и тому же признаку применить сразу и нормализацию, и стандартизацию?"
   ]
  },
  {
   "attachments": {},
   "cell_type": "markdown",
   "id": "8ee0701c",
   "metadata": {},
   "source": [
    "<img src='./scale_1200.webp' width=50%>"
   ]
  },
  {
   "cell_type": "code",
   "execution_count": 13,
   "id": "662e7e88",
   "metadata": {},
   "outputs": [],
   "source": [
    "# ОТВЕТ: Можно, если это необходимо. Лучше применять сначала стандартизацию, потом нормализацию.\n",
    "# "
   ]
  },
  {
   "cell_type": "markdown",
   "id": "ae4e5697",
   "metadata": {},
   "source": [
    "<hr>\n",
    "\n",
    "4. *Сгенерируйте датасет при помощи <code>sklearn.datasets.make_regression</code> и обучите линейную модель при помощи градиентного и стохастического градиентного спуска. Нанесите среднеквадратичную ошибку для обоих методов на один график, сделайте выводы о разнице скорости сходимости каждого из методов.\n"
   ]
  },
  {
   "cell_type": "code",
   "execution_count": 14,
   "id": "46ceec73",
   "metadata": {},
   "outputs": [],
   "source": [
    "from sklearn.datasets import make_regression"
   ]
  },
  {
   "cell_type": "code",
   "execution_count": 15,
   "id": "5b9e1b04",
   "metadata": {},
   "outputs": [],
   "source": [
    "X, y = make_regression(n_samples = 50_000, n_features=3, noise = 2)"
   ]
  },
  {
   "cell_type": "code",
   "execution_count": 16,
   "id": "63ba9cce",
   "metadata": {},
   "outputs": [
    {
     "data": {
      "text/plain": [
       "(50000, 3)"
      ]
     },
     "execution_count": 16,
     "metadata": {},
     "output_type": "execute_result"
    }
   ],
   "source": [
    "X.shape"
   ]
  },
  {
   "cell_type": "code",
   "execution_count": 17,
   "id": "72b21cb8",
   "metadata": {},
   "outputs": [],
   "source": [
    "def gradient_descent_reg_l2_mse_log(X, y, iterations, eta=1e-4, reg=1e-8):\n",
    "    W = np.random.randn(X.shape[1])\n",
    "    n = X.shape[0]\n",
    "    \n",
    "    mse_log = []\n",
    "    \n",
    "    for i in range(0, iterations):\n",
    "        y_pred = np.dot(X, W)\n",
    "        err = calc_mse(y, y_pred)\n",
    "        mse_log.append([i, err])\n",
    "        dQ = 2/n * X.T @ (y_pred - y) # градиент функции ошибки\n",
    "        dReg = reg * W # градиент регуляризации\n",
    "        \n",
    "        W -= eta * (dQ + dReg)\n",
    "        \n",
    "    return mse_log"
   ]
  },
  {
   "cell_type": "code",
   "execution_count": 18,
   "id": "af871a0f",
   "metadata": {},
   "outputs": [],
   "source": [
    "def stohastic_gradient_descent_l2_mse_log(X, y, iterations, eta=1e-4, reg=1e-8):\n",
    "    W = np.random.randn(X.shape[1])\n",
    "    n = X.shape[0]\n",
    "    mse_log = []\n",
    "        \n",
    "    for i in range(0, iterations):\n",
    "        \n",
    "        inds = np.random.randint(n, size=X.shape[0])\n",
    "\n",
    "        X_tmp = X[inds, ]\n",
    "        y_tmp = np.array(y)[inds]\n",
    "\n",
    "\n",
    "        y_pred_tmp = np.dot(X_tmp, W)\n",
    "        dQ = 2/len(y_tmp) * X_tmp.T @ (y_pred_tmp - y_tmp) # градиент функции ошибки\n",
    "        dReg = reg * W # градиент регуляризации\n",
    "\n",
    "        W -= eta * (dQ + dReg)   \n",
    "    \n",
    "        err = calc_mse(y, np.dot(X, W))\n",
    "        mse_log.append([i, err])\n",
    "\n",
    "    return mse_log"
   ]
  },
  {
   "cell_type": "code",
   "execution_count": 19,
   "id": "1edbed8a",
   "metadata": {},
   "outputs": [],
   "source": [
    "iterations = 2000\n",
    "eta = 1e-3\n",
    "reg = 0\n",
    "\n",
    "gd_mse_log = np.array(gradient_descent_reg_l2_mse_log(X, y, iterations=iterations, eta=eta, reg=reg))\n",
    "sgd_mse_log = np.array(stohastic_gradient_descent_l2_mse_log(X, y, iterations=iterations, eta=eta, reg=reg))"
   ]
  },
  {
   "cell_type": "code",
   "execution_count": 20,
   "id": "34c2ff8c",
   "metadata": {},
   "outputs": [
    {
     "data": {
      "image/png": "[encoded data removed]",
      "text/plain": [
       "<Figure size 1440x1080 with 1 Axes>"
      ]
     },
     "metadata": {
      "needs_background": "light"
     },
     "output_type": "display_data"
    }
   ],
   "source": [
    "fig, ax = plt.subplots()\n",
    "ax.plot(gd_mse_log[:,0], gd_mse_log[:,1], color='b', label = 'GD')\n",
    "ax.plot(sgd_mse_log[:,0], sgd_mse_log [:,1], color='r', label = 'SGD')\n",
    "ax.legend()\n",
    "plt.title('Сравнение скорости сходимости GD и SGD')\n",
    "plt.xlabel('Iterations')\n",
    "plt.ylabel('MSE')\n",
    "fig.set_figheight(15)\n",
    "fig.set_figwidth(20)\n",
    "plt.show()"
   ]
  },
  {
   "cell_type": "code",
   "execution_count": 21,
   "id": "a22efc5c",
   "metadata": {},
   "outputs": [],
   "source": [
    "# ВЫВОД: исходя из графика можно сделать вывод, что ошибка при SGD и GD приходит к \n",
    "# минимальному значению практически одинаково. Но стоит заметить, что при использовании градиентного спуска\n",
    "# минимальное значение ошибки достигается быстрее, чем при стохастическом."
   ]
  }
 ],
 "metadata": {
  "kernelspec": {
   "display_name": "Python 3",
   "language": "python",
   "name": "python3"
  },
  "language_info": {
   "codemirror_mode": {
    "name": "ipython",
    "version": 3
   },
   "file_extension": ".py",
   "mimetype": "text/x-python",
   "name": "python",
   "nbconvert_exporter": "python",
   "pygments_lexer": "ipython3",
   "version": "3.8.8"
  }
 },
 "nbformat": 4,
 "nbformat_minor": 5
}
