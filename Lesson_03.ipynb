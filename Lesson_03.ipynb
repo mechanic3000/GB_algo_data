{
 "cells": [
  {
   "cell_type": "markdown",
   "id": "8534cd9b",
   "metadata": {},
   "source": [
    "### Урок 3. ДЗ ###\n",
    "\n",
    "1. *Измените функцию calc_logloss так, чтобы нули по возможности не попадали в np.log."
   ]
  },
  {
   "cell_type": "code",
   "execution_count": 1,
   "id": "0f10d076",
   "metadata": {},
   "outputs": [],
   "source": [
    "import numpy as np\n",
    "import matplotlib.pyplot as plt"
   ]
  },
  {
   "cell_type": "code",
   "execution_count": 2,
   "id": "901f7b02",
   "metadata": {},
   "outputs": [],
   "source": [
    "X = np.array([ [   1,    1,  500,    1],\n",
    "               [   1,    1,  700,    1],\n",
    "               [   1,    2,  750,    2],\n",
    "               [   1,    5,  600,    1],\n",
    "               [   1,    3, 1450,    2],\n",
    "               [   1,    0,  800,    1],\n",
    "               [   1,    5, 1500,    3],\n",
    "               [   1,   10, 2000,    3],\n",
    "               [   1,    1,  450,    1],\n",
    "               [   1,    2, 1000,    2]], dtype=np.float64)\n",
    "\n",
    "y = np.array([0, 0, 1, 0, 1, 0, 1, 0, 1, 1], dtype=np.float64)"
   ]
  },
  {
   "cell_type": "code",
   "execution_count": 3,
   "id": "df314f9f",
   "metadata": {},
   "outputs": [],
   "source": [
    "def standard_scale(x):\n",
    "    res = (x - x.mean()) / x.std()\n",
    "    return res"
   ]
  },
  {
   "cell_type": "code",
   "execution_count": 4,
   "id": "2bca6ae0",
   "metadata": {},
   "outputs": [
    {
     "data": {
      "text/plain": [
       "array([[ 1.        ,  1.        , -0.97958969,  1.        ],\n",
       "       [ 1.        ,  1.        , -0.56713087,  1.        ],\n",
       "       [ 1.        ,  2.        , -0.46401617,  2.        ],\n",
       "       [ 1.        ,  5.        , -0.77336028,  1.        ],\n",
       "       [ 1.        ,  3.        ,  0.97958969,  2.        ],\n",
       "       [ 1.        ,  0.        , -0.36090146,  1.        ],\n",
       "       [ 1.        ,  5.        ,  1.08270439,  3.        ],\n",
       "       [ 1.        , 10.        ,  2.11385144,  3.        ],\n",
       "       [ 1.        ,  1.        , -1.08270439,  1.        ],\n",
       "       [ 1.        ,  2.        ,  0.05155735,  2.        ]])"
      ]
     },
     "execution_count": 4,
     "metadata": {},
     "output_type": "execute_result"
    }
   ],
   "source": [
    "X_st = X.copy()\n",
    "X_st[:, 2] = standard_scale(X[:, 2])\n",
    "\n",
    "X_st"
   ]
  },
  {
   "cell_type": "code",
   "execution_count": 42,
   "id": "5f35fb45",
   "metadata": {},
   "outputs": [],
   "source": [
    "# def calc_logloss(y, y_pred):\n",
    "#     err = - np.mean(y * np.log(y_pred) + (1.0 - y) * np.log(1.0 - y_pred))\n",
    "#     return err\n",
    "\n",
    "\n",
    "# доработанная функция\n",
    "def calc_logloss(y, y_pred, eps=1e-15):\n",
    "    err = 0\n",
    "    for i in range(len(y)):\n",
    "        y_pred[i] = max(eps, min(1 - eps, y_pred[i])) # добавление малой составл. если выходит 0\n",
    "        err += y[i] * np.log(y_pred[i]) + (1.0 - y[i]) * np.log(1.0 - y_pred[i])\n",
    "    err = - err / len(y)\n",
    "    return err"
   ]
  },
  {
   "cell_type": "code",
   "execution_count": 41,
   "id": "d901405a",
   "metadata": {},
   "outputs": [
    {
     "data": {
      "text/plain": [
       "0.11157177565710535"
      ]
     },
     "execution_count": 41,
     "metadata": {},
     "output_type": "execute_result"
    }
   ],
   "source": [
    "# Плохой пример применения\n",
    "y1 = np.array([1, 0])\n",
    "y_pred1 = np.array([1, 0.2])\n",
    "calc_logloss(y1, y_pred1)"
   ]
  },
  {
   "cell_type": "code",
   "execution_count": 40,
   "id": "66291bf1",
   "metadata": {},
   "outputs": [
    {
     "data": {
      "text/plain": [
       "0.11157177565710535"
      ]
     },
     "execution_count": 40,
     "metadata": {},
     "output_type": "execute_result"
    }
   ],
   "source": [
    "#ПРОВЕРКА\n",
    "\n",
    "from sklearn.metrics import log_loss\n",
    "log_loss(y1, y_pred1)"
   ]
  },
  {
   "cell_type": "markdown",
   "id": "f934b705",
   "metadata": {},
   "source": [
    "<hr>\n",
    "\n",
    "2. Подберите аргументы функции eval_model для логистической регрессии таким образом, чтобы log loss был минимальным.\n"
   ]
  },
  {
   "cell_type": "code",
   "execution_count": 46,
   "id": "699bdfdb",
   "metadata": {},
   "outputs": [],
   "source": [
    "def sigmoid(z):\n",
    "    res = 1 / (1 + np.exp(-z))\n",
    "    return res"
   ]
  },
  {
   "cell_type": "code",
   "execution_count": 45,
   "id": "fc3dfa01",
   "metadata": {},
   "outputs": [],
   "source": [
    "def eval_model(X, y, iterations, eta=1e-4):\n",
    "    np.random.seed(42)\n",
    "    W = np.random.randn(X.shape[1])\n",
    "    n = X.shape[0]\n",
    "    \n",
    "    for i in range(iterations):\n",
    "        z = np.dot(X, W)\n",
    "        y_pred = sigmoid(z)\n",
    "        err = calc_logloss(y, y_pred)\n",
    "        \n",
    "        dQ = 1/n * X.T @ (y_pred - y)\n",
    "        W -= eta * dQ\n",
    "        if i % (iterations / 10) == 0:\n",
    "            print(i, W, err)\n",
    "    return W"
   ]
  },
  {
   "cell_type": "code",
   "execution_count": 89,
   "id": "7ec82bc9",
   "metadata": {},
   "outputs": [
    {
     "name": "stdout",
     "output_type": "stream",
     "text": [
      "0 [ 0.49633477 -0.13971518  0.64766116  1.52246371] 1.1785958344356262\n",
      "500 [ 0.36227303 -0.61296537  0.6357139   1.33157192] 0.5531388819143024\n",
      "1000 [ 0.30073233 -0.70026449  0.66312517  1.28874272] 0.5201380455701675\n",
      "1500 [ 0.25670353 -0.7153335   0.69622253  1.28005534] 0.5132905694561168\n",
      "2000 [ 0.21863358 -0.7169718   0.72742369  1.28032147] 0.5084253284466037\n",
      "2500 [ 0.18384751 -0.71636814  0.75565267  1.28410385] 0.5043772097533477\n",
      "3000 [ 0.15151323 -0.71596113  0.78093944  1.28996596] 0.500934768374212\n",
      "3500 [ 0.12124459 -0.71620567  0.80354008  1.29741256] 0.49796704155232696\n",
      "4000 [ 0.09277701 -0.7171091   0.82373835  1.30618063] 0.4953727678019912\n",
      "4500 [ 0.06589148 -0.7185895   0.84179994  1.31607405] 0.49307286149256413\n"
     ]
    }
   ],
   "source": [
    "W = eval_model(X_st, y, iterations=5000, eta=1e-3)"
   ]
  },
  {
   "cell_type": "code",
   "execution_count": 79,
   "id": "12b683d5",
   "metadata": {},
   "outputs": [],
   "source": [
    "# ОТВЕТ: считаю данные параметры оптимальными, т.к. при уменьшении eta (в данном случае)\n",
    "# уменьшается log_loss, но растут веса, а увеличение количества итераций увеличивает время работы\n",
    "# и приводит примерно к тем же результатам"
   ]
  },
  {
   "cell_type": "markdown",
   "id": "c6fd74cb",
   "metadata": {},
   "source": [
    "<hr>\n",
    "\n",
    "3. Создайте функцию calc_pred_proba, возвращающую предсказанную вероятность класса 1 (на вход подаются W, который уже посчитан функцией eval_model и X, на выходе - массив y_pred_proba).\n"
   ]
  },
  {
   "cell_type": "code",
   "execution_count": 118,
   "id": "35d12f48",
   "metadata": {},
   "outputs": [],
   "source": [
    "def calc_pred_proba(W, X):\n",
    "    p = 1 / (1 + np.exp(-1*np.dot(X, W)))\n",
    "    return p"
   ]
  },
  {
   "cell_type": "code",
   "execution_count": 112,
   "id": "54087efc",
   "metadata": {},
   "outputs": [
    {
     "data": {
      "text/plain": [
       "array([0.45174437, 0.53997372, 0.70162611, 0.05220782, 0.79786736,\n",
       "       0.7422546 , 0.793685  , 0.20248687, 0.42994129, 0.78539386])"
      ]
     },
     "execution_count": 112,
     "metadata": {},
     "output_type": "execute_result"
    }
   ],
   "source": [
    "calc_pred_proba(W, X_st)"
   ]
  },
  {
   "cell_type": "code",
   "execution_count": 110,
   "id": "36566b21",
   "metadata": {},
   "outputs": [
    {
     "data": {
      "text/plain": [
       "array([0., 0., 1., 0., 1., 0., 1., 0., 1., 1.])"
      ]
     },
     "execution_count": 110,
     "metadata": {},
     "output_type": "execute_result"
    }
   ],
   "source": [
    "y"
   ]
  },
  {
   "cell_type": "markdown",
   "id": "c74f5ee5",
   "metadata": {},
   "source": [
    "<hr>\n",
    "\n",
    "4. Создайте функцию calc_pred, возвращающую предсказанный класс (на вход подаются W, который уже посчитан функцией eval_model и X, на выходе - массив y_pred)."
   ]
  },
  {
   "cell_type": "code",
   "execution_count": 121,
   "id": "1a4e39d9",
   "metadata": {},
   "outputs": [],
   "source": [
    "def calc_pred(W, X, p=.5):\n",
    "    y_pred = np.array([1 if i >= p else 0 for i in calc_pred_proba(W, X)])\n",
    "    return y_pred"
   ]
  },
  {
   "cell_type": "code",
   "execution_count": 192,
   "id": "f97a1f53",
   "metadata": {},
   "outputs": [
    {
     "data": {
      "text/plain": [
       "array([0, 1, 1, 0, 1, 1, 1, 0, 0, 1])"
      ]
     },
     "execution_count": 192,
     "metadata": {},
     "output_type": "execute_result"
    }
   ],
   "source": [
    "y_pred = calc_pred(W, X_st)\n",
    "y_pred"
   ]
  },
  {
   "cell_type": "markdown",
   "id": "bb01f70c",
   "metadata": {},
   "source": [
    "<hr>\n",
    "\n",
    "5. *Реализуйте функции для подсчета Accuracy, матрицы ошибок, точности и полноты, а также F1 score."
   ]
  },
  {
   "cell_type": "code",
   "execution_count": 177,
   "id": "f31b2330",
   "metadata": {},
   "outputs": [
    {
     "data": {
      "text/plain": [
       "False"
      ]
     },
     "execution_count": 177,
     "metadata": {},
     "output_type": "execute_result"
    }
   ],
   "source": [
    "N = true_values.shape[1]\n",
    "accuracy = (true_values == predictions).sum() / N\n",
    "TP = ((predictions == 1) & (true_values == 1)).sum()\n",
    "FP = ((predictions == 1) & (true_values == 0)).sum()\n",
    "precision = TP / (TP+FP)"
   ]
  },
  {
   "cell_type": "code",
   "execution_count": 180,
   "id": "e404c24f",
   "metadata": {},
   "outputs": [
    {
     "data": {
      "text/plain": [
       "7"
      ]
     },
     "execution_count": 180,
     "metadata": {},
     "output_type": "execute_result"
    }
   ],
   "source": [
    "(y == y_pred).sum() "
   ]
  },
  {
   "cell_type": "code",
   "execution_count": 204,
   "id": "9fb7afa1",
   "metadata": {},
   "outputs": [],
   "source": [
    "def get_pred_param(y, y_pred):\n",
    "    n = y.shape[0]\n",
    "    accuracy = (y == y_pred).sum() / n\n",
    "    TP = ((y_pred == 1) & (y == 1)).sum()\n",
    "    FP = ((y_pred == 1) & (y == 0)).sum()\n",
    "    FN = ((y_pred == 0) & (y == 1)).sum()\n",
    "    TN = ((y_pred == 0) & (y == 10)).sum()\n",
    "    \n",
    "    precision = TP / (TP + FP)\n",
    "    recall = TP / (TP + FN)\n",
    "    F = 2 * precision * recall / (precision + recall)\n",
    "    \n",
    "    errors_matrix = np.zeros([2, 2])\n",
    "    errors_matrix[0][0] = TP\n",
    "    errors_matrix[0][1] = FP\n",
    "    errors_matrix[1][0] = FN\n",
    "    errors_matrix[1][1] = \n",
    "    \n",
    "    print(f'Accuracy: {accuracy:0.2f}')\n",
    "    print(f'Precision: {precision:0.2f}')\n",
    "    print(f'Recall: {recall:0.2f}')\n",
    "    print(f'F: {F:0.2f}') \n",
    "    print(f'Errors matrix: \\n {errors_matrix}')\n",
    "    \n",
    "    return None"
   ]
  },
  {
   "cell_type": "code",
   "execution_count": 205,
   "id": "9e3799fb",
   "metadata": {},
   "outputs": [
    {
     "name": "stdout",
     "output_type": "stream",
     "text": [
      "Accuracy: 0.70\n",
      "Precision: 0.67\n",
      "Recall: 0.80\n",
      "F: 0.73\n",
      "Errors matrix: \n",
      " [[4. 2.]\n",
      " [0. 0.]]\n"
     ]
    }
   ],
   "source": [
    "get_pred_param(y, y_pred)"
   ]
  }
 ],
 "metadata": {
  "kernelspec": {
   "display_name": "Python 3",
   "language": "python",
   "name": "python3"
  },
  "language_info": {
   "codemirror_mode": {
    "name": "ipython",
    "version": 3
   },
   "file_extension": ".py",
   "mimetype": "text/x-python",
   "name": "python",
   "nbconvert_exporter": "python",
   "pygments_lexer": "ipython3",
   "version": "3.8.8"
  }
 },
 "nbformat": 4,
 "nbformat_minor": 5
}
